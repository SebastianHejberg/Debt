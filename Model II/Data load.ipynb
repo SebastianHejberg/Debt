{
 "cells": [
  {
   "cell_type": "code",
   "execution_count": 165,
   "metadata": {},
   "outputs": [],
   "source": [
    "import os\n",
    "import pandas as pd\n",
    "import numpy as np\n",
    "import statsmodels.api as sm\n",
    "import pickle\n",
    "import pandas as pd\n",
    "import statsmodels.api as sm\n",
    "import matplotlib.pyplot as plt\n",
    "from matplotlib.ticker import MaxNLocator\n",
    "from matplotlib.font_manager import FontProperties\n",
    "font_props = FontProperties(family='Times New Roman', size=10)\n",
    "\n",
    "maturity = 10"
   ]
  },
  {
   "cell_type": "code",
   "execution_count": 166,
   "metadata": {},
   "outputs": [],
   "source": [
    "countries= ['Belgium','Bulgaria','Czechia','Denmark','Germany', 'Estonia','Ireland','Greece',\n",
    "       'Spain','France','Croatia','Italy','Cyprus','Latvia','Lithuania','Luxembourg','Hungary',\n",
    "       'Netherlands','Austria','Poland','Portugal', 'Romania','Slovenia','Slovakia','Finland',\n",
    "       'Sweden']"
   ]
  },
  {
   "cell_type": "code",
   "execution_count": 167,
   "metadata": {},
   "outputs": [
    {
     "name": "stdout",
     "output_type": "stream",
     "text": [
      "GDP_fix\n",
      "GDP_fix_copy\n",
      "Revenue\n",
      "Growth\n",
      "Interest_Rates\n",
      "GDP_copy\n",
      "Debt\n",
      "Interest\n",
      "Expenditure\n",
      "GDP\n"
     ]
    }
   ],
   "source": [
    "T0 = 2000\n",
    "T1 = 2022\n",
    "\n",
    "for filename in os.listdir(\"Data\"):\n",
    "    if filename.endswith(\".csv\"): \n",
    "        file_path = os.path.join(\"Data\", filename)  \n",
    "        key = filename.replace(\".csv\", \"\") \n",
    "        print(key)\n",
    "        df = pd.read_csv(file_path, delimiter=';')\n",
    "        if len(df.columns) < 2:\n",
    "            df = pd.read_csv(file_path, delimiter=',')\n",
    "        globals()[key] = df[(df.iloc[:, 0] >= T0) & (df.iloc[:, 0] <= T1)]"
   ]
  },
  {
   "cell_type": "code",
   "execution_count": 168,
   "metadata": {},
   "outputs": [],
   "source": [
    "Revenue = Revenue/100\n",
    "Growth=Growth/100\n",
    "Debt=Debt\n",
    "Interest=Interest/100\n",
    "Expenditure=Expenditure/100\n",
    "\n",
    "GDP = GDP # GDP (løb) eller GDP_fix (fast)\n",
    "GDP_small_sample = GDP_copy # GDP_copy (løb) eller GDP_fix_copy (fast)\n",
    "# GDP = GDP_fix # GDP (løb) eller GDP_fix (fast)\n",
    "# GDP_small_sample = GDP_fix_copy # GDP_copy (løb) eller GDP_fix_copy (fast)\n",
    "\n",
    "Interest_rates = Interest_Rates"
   ]
  },
  {
   "cell_type": "markdown",
   "metadata": {},
   "source": [
    "$$\\begin{align*}\n",
    "\\texttt{tsy}_{i,t}&=\\frac{\\texttt{total\\_gov\\_revenue}_{i,t}}{\\texttt{gdp}_{i,t}}\\\\\\\\\n",
    "\\texttt{gsy}_{i,t}&=\\frac{\\texttt{total\\_gov\\_exp}_{i,t}-\\texttt{interests}_{i,t}}{\\texttt{gdp}_{i,t}} \\\\\\\\\n",
    "\\texttt{dsy}_{i,t}&=\\texttt{tsy}_{i,t}-\\texttt{gsy}_{i,t}\n",
    "\\end{align*}$$"
   ]
  },
  {
   "cell_type": "code",
   "execution_count": 169,
   "metadata": {},
   "outputs": [],
   "source": [
    "len(Interest_rates[\"Maturity\"])\n",
    "Maturity_list = Interest_rates[\"Maturity\"]\n",
    "Interest_rates.columns = range(Interest_rates.shape[1])"
   ]
  },
  {
   "cell_type": "code",
   "execution_count": 170,
   "metadata": {},
   "outputs": [],
   "source": [
    "n = len(countries)\n",
    "tsy = {}  \n",
    "gsy = {}\n",
    "dsy = {}\n",
    "ismpl = {}\n",
    "mt = {}\n",
    "\n",
    "for i in range(n):\n",
    "    tsy[countries[i]] = Revenue[countries[i]] \n",
    "    tsy[countries[i]].index = Revenue[\"Time\"]\n",
    "\n",
    "    gsy[countries[i]] = (Expenditure[countries[i]] - Interest[countries[i]])\n",
    "    gsy[countries[i]].index = Revenue[\"Time\"]\n",
    "\n",
    "    dsy[countries[i]] = tsy[countries[i]]-gsy[countries[i]]\n",
    "    dsy[countries[i]].index = Revenue[\"Time\"]"
   ]
  },
  {
   "cell_type": "code",
   "execution_count": 171,
   "metadata": {},
   "outputs": [],
   "source": [
    "# # mt = 0\n",
    "# # for i in range(n):\n",
    "# #     mt=mt+np.mean(tsy[countries[i]])/n\n",
    "# # mt\n",
    "\n",
    "# x = {}\n",
    "# alpha = {}\n",
    "\n",
    "# for i in range(n):\n",
    "#     x[countries[i]] = np.sum((tsy[countries[i]]-gsy[countries[i]])/len(tsy[countries[i]]))\n",
    "#     #print(x[countries[i]])\n",
    "\n",
    "# # for i in range(n):\n",
    "# #     alpha = np.mean(x[countries[i]])"
   ]
  },
  {
   "cell_type": "code",
   "execution_count": 172,
   "metadata": {},
   "outputs": [],
   "source": [
    "max_1={}\n",
    "average_3={}\n",
    "average_5={}\n",
    "max_average_3 = {}\n",
    "max_average_5 = {}\n",
    "\n",
    "for i in range(0,len(countries)):\n",
    "    Primary_Surplus_x = Primary_Surplus[countries[i]]\n",
    "    average_3[countries[i]]={}\n",
    "    average_5[countries[i]]={}\n",
    "\n",
    "    for j in range(0,len(Primary_Surplus)-2):\n",
    "        average_3[countries[i]][j] = (Primary_Surplus_x[j]+Primary_Surplus_x[j+1]+Primary_Surplus_x[j+2])/3\n",
    "    \n",
    "    for j in range(0,len(Primary_Surplus)-5):\n",
    "        average_5[countries[i]][j] = (Primary_Surplus_x[j]+Primary_Surplus_x[j+1]+Primary_Surplus_x[j+2]+Primary_Surplus_x[j+3]+Primary_Surplus_x[j+4])/5\n",
    "\n",
    "for i in range(0,len(countries)):\n",
    "    max_average_3[countries[i]] = max(average_3[countries[i]].values())\n",
    "    max_average_5[countries[i]] = max(average_5[countries[i]].values())\n",
    "    max_1[countries[i]] = max(dsy[countries[i]])*100\n",
    "\n",
    "max_average_3_sorted = sorted(max_average_3.values(), reverse=True)\n",
    "max_average_5_sorted = sorted(max_average_5.values(), reverse=True)\n",
    "max_country_sorted = sorted(max_1.values(), reverse=True)\n",
    "\n",
    "for i in range(0,len(countries)):\n",
    "    max_average_3[countries[i]] = max(average_3[countries[i]].values())/100\n",
    "    max_average_5[countries[i]] = max(average_5[countries[i]].values())/100\n",
    "    max_1[countries[i]] = max(dsy[countries[i]])"
   ]
  },
  {
   "cell_type": "code",
   "execution_count": 173,
   "metadata": {},
   "outputs": [
    {
     "data": {
      "image/png": "[encoded data removed]",
      "text/plain": [
       "<Figure size 1500x400 with 3 Axes>"
      ]
     },
     "metadata": {},
     "output_type": "display_data"
    }
   ],
   "source": [
    "Histogram = [max_average_3_sorted, max_average_5_sorted, max_country_sorted]\n",
    "Histogram_text = [\"Max primary surplus 3 years average\", \"Max primary surplus 3 years average\", \"Max primary surplus (Whole period)\"]\n",
    "\n",
    "fig, axes = plt.subplots(1, len(Histogram), figsize=(len(Histogram)*5, 4))  # Opretter et gridlayout med et enkelt række og antallet af histogrammer som kolonner\n",
    "\n",
    "for i, ax in enumerate(axes):  # Gennemgår alle akserne\n",
    "    ax.hist(Histogram[i], bins=26, color='grey', edgecolor='black')\n",
    "    ax.set_ylabel('Frequency', fontname='Times New Roman', size=14)\n",
    "    ax.set_title(f'{Histogram_text[i]}', fontname='Times New Roman', size=14)\n",
    "    ax.set_xlim(-1,)\n",
    "    ax.set_ylim(0, 6)\n",
    "    ax.xaxis.set_major_locator(MaxNLocator(integer=True))\n",
    "    ax.yaxis.set_major_locator(MaxNLocator(integer=True))\n",
    "\n",
    "    for label in ax.get_yticklabels():\n",
    "        label.set_fontproperties(font_props)\n",
    "    \n",
    "    for label in ax.get_xticklabels():\n",
    "        label.set_fontproperties(font_props)\n",
    "\n",
    "    ax.spines[['right', 'top']].set_visible(False)\n",
    "\n",
    "plt.tight_layout()  # Justerer layoutet automatisk for at undgå overlapning\n",
    "plt.show()"
   ]
  },
  {
   "cell_type": "markdown",
   "metadata": {},
   "source": [
    "$$\\begin{align*}\n",
    "\\texttt{ALP1}_{i}&=\\max_t\\big(\\texttt{dsy}_{i,t}\\big)=\\max_t\\big(\\texttt{tsy}_{i,t}-\\texttt{gsy}_{i,t}\\big)=\\max_t\\Bigg(\\frac{\\texttt{total\\_gov\\_revenue}_{i,t}}{\\texttt{gdp}_{i,t}}-\\frac{\\texttt{total\\_gov\\_exp}_{i,t}-\\texttt{interests}_{i,t}}{\\texttt{gdp}_{i,t}}\\Bigg)\\\\\\\\\n",
    "\\texttt{ALP2}_{i}&=\\max_t\\big(\\texttt{tsy}_{i,t}\\big)=\\Bigg(\\frac{\\texttt{total\\_gov\\_revenue}_{i,t}}{\\texttt{gdp}_{i,t}}\\Bigg)\\\\\\\\\n",
    "\\texttt{ALP3}_{i}&=\\frac{1}{t}\\sum^T_{t=1}\\big(\\texttt{dsy}_{i,t}\\big)=\\frac{1}{t}\\sum^T_{t=1}\\big(\\texttt{tsy}_{i,t}-\\texttt{gsy}_{i,t}\\big)=\\frac{1}{t}\\sum^T_{t=1} \\Bigg(\\frac{\\texttt{total\\_gov\\_revenue}_{i,t}}{\\texttt{gdp}_{i,t}}-\\frac{\\texttt{total\\_gov\\_exp}_{i,t}-\\texttt{interests}_{i,t}}{\\texttt{gdp}_{i,t}}\\Bigg)\n",
    "\\end{align*}\n",
    "$$"
   ]
  },
  {
   "cell_type": "code",
   "execution_count": 174,
   "metadata": {},
   "outputs": [],
   "source": [
    "ALP1 = {}\n",
    "ALP2 = {}\n",
    "ALP3 = {}\n",
    "ALP4 = {}\n",
    "ALP5 = {}\n",
    "ALP6 = {}\n",
    "print_plots = False\n",
    "\n",
    "for i in range(n):\n",
    "    ALP1[countries[i]] = max(dsy[countries[i]].dropna())\n",
    "    \n",
    "    ALP2[countries[i]] = max(tsy[countries[i]].dropna()) - min(gsy[countries[i]].dropna())\n",
    "    \n",
    "    ALP3[countries[i]] = np.mean(dsy[countries[i]].dropna())\n",
    "    \n",
    "    ALP4[countries[i]] = dsy[countries[i]]\n",
    "    \n",
    "    ALP5[countries[i]] = dsy[countries[i]].dropna().quantile(0.80)\n",
    "    \n",
    "    cycle, trend = sm.tsa.filters.hpfilter(dsy[countries[i]].dropna(), lamb=3)\n",
    "\n",
    "    ALP6[countries[i]] = ((trend)).rename(countries[i])\n",
    "\n",
    "    if print_plots == True:\n",
    "        plt.figure(figsize=(10, 5))\n",
    "        plt.plot(ALP6[countries[i]], label='HP', marker='o')\n",
    "        plt.plot(ALP4[countries[i]], label='Faktisk', marker='x')\n",
    "        plt.xlabel(f'{countries[i]}')\n",
    "        plt.legend()\n",
    "        plt.grid(True)\n",
    "        plt.show()"
   ]
  },
  {
   "cell_type": "markdown",
   "metadata": {},
   "source": [
    "$$\\begin{align}\n",
    "\\texttt{ly}_{i,t}&=\\log\\left(\\texttt{GDP}_{i,t}\\right)\\\\\\\\\n",
    "\\texttt{dY}_{i,t}&=\\Delta \\log\\left(\\texttt{GDP}_{i,t}\\right)=\\log\\left(\\texttt{GDP}_{i,t}\\right)-\\log\\left(\\texttt{GDP}_{i,t-1}\\right)\n",
    "\\end{align}$$"
   ]
  },
  {
   "cell_type": "code",
   "execution_count": 175,
   "metadata": {},
   "outputs": [],
   "source": [
    "ly = {}\n",
    "dY = {}\n",
    "MDY = {}\n",
    "for i in range(n):\n",
    "    ly[countries[i]] = np.log(GDP[countries[i]])\n",
    "    dY[countries[i]] = ly[countries[i]].diff(1)\n",
    "\n",
    "    MDY[countries[i]] = np.mean(dY[countries[i]])\n"
   ]
  },
  {
   "cell_type": "markdown",
   "metadata": {},
   "source": [
    "$$\\begin{align}\n",
    "\\texttt{dY}_t&=\\rho\\cdot \\texttt{dY}_{t−1}+\\varepsilon_t\\\\\\\\\n",
    "\\texttt{MDY}_{i}&=\\frac{1}{n}\\sum^T_{t=1} \\texttt{dY}_{t,i}\\\\\\\\\n",
    "\\texttt{SE}_{i}&=\\sqrt{\\text{Var}(\\hat{\\rho}_i)}\n",
    "\\end{align}$$\n",
    " "
   ]
  },
  {
   "cell_type": "code",
   "execution_count": 176,
   "metadata": {},
   "outputs": [],
   "source": [
    "ly = {}\n",
    "dY = {}\n",
    "for i in range(n):\n",
    "    ly[countries[i]] = np.log(GDP_small_sample[countries[i]].dropna().reset_index(drop=True))\n",
    "    dY[countries[i]] = ly[countries[i]].diff(1)\n"
   ]
  },
  {
   "cell_type": "code",
   "execution_count": 177,
   "metadata": {},
   "outputs": [],
   "source": [
    "\n",
    "RHO = {}\n",
    "SE = {}\n",
    "res = {}\n",
    "N   = 1000000\n",
    "e = np.random.randn(maturity * N)\n",
    "x = {}\n",
    "x = {}\n",
    "SY = {}\n",
    "\n",
    "for i in range(n):\n",
    "    model = sm.tsa.AutoReg(dY[countries[i]].dropna().reset_index(drop=True), lags=1)  \n",
    "    result = model.fit()  \n",
    "    res[countries[i]] = result\n",
    "\n",
    "    RHO[countries[i]] = res[countries[i]].params.iloc[1]\n",
    "\n",
    "    SE[countries[i]] = res[countries[i]].scale\n",
    "\n",
    "    x[countries[i]] = np.std(res[countries[i]].resid) * e\n",
    "    x[countries[i]] = np.sum(np.reshape(x[countries[i]], (maturity, N)), axis=0)\n",
    "    x[countries[i]] = x[countries[i]].T\n",
    "\n",
    "    SY[countries[i]] = np.std(x[countries[i]])\n"
   ]
  },
  {
   "cell_type": "code",
   "execution_count": 178,
   "metadata": {},
   "outputs": [],
   "source": [
    "mt = {}\n",
    "BSY = {}\n",
    "\n",
    "for i in range(n):\n",
    "    BSY[countries[i]] = Debt[countries[i]]\n",
    "\n",
    "    #BSY[countries[i]].index = Debt[\"Time\"]\n",
    "    #BSY[countries[i]] = daty[countries[i]]"
   ]
  },
  {
   "cell_type": "code",
   "execution_count": 179,
   "metadata": {},
   "outputs": [],
   "source": [
    "DY = {}\n",
    "yy = {}\n",
    "zz = {}\n",
    "\n",
    "for i in range(n):\n",
    "    #DY[countries[i]] = np.log(daty[countries[i]][1:]) - np.log(daty[countries[i]][:-1])\n",
    "    DY[countries[i]] = np.log(GDP[countries[i]][1:].values) - np.log(GDP[countries[i]][:-1].values)\n",
    "    #DY[countries[i]] = DY[countries[i]][:-1, :]\n",
    "\n",
    "    DY[countries[i]] = DY[countries[i]].reshape(-1, 1) \n",
    "    DY[countries[i]] = DY[countries[i]][:-1, :]  \n",
    "\n",
    "    DY[countries[i]] = [item[0] for item in DY[countries[i]]]"
   ]
  },
  {
   "cell_type": "code",
   "execution_count": 180,
   "metadata": {},
   "outputs": [],
   "source": [
    "with open('variabler.pkl', 'wb') as f:\n",
    "    pickle.dump([countries, maturity, Interest_rates, \n",
    "                 ALP1, ALP2, ALP3, ALP4, ALP5, ALP6,  \n",
    "                 MDY, SY, RHO, SE, BSY, DY,\n",
    "                 max_average_3, max_average_5, max_1], f)"
   ]
  },
  {
   "cell_type": "code",
   "execution_count": 181,
   "metadata": {},
   "outputs": [
    {
     "data": {
      "image/png": "[encoded data removed]",
      "text/plain": [
       "<Figure size 640x480 with 1 Axes>"
      ]
     },
     "metadata": {},
     "output_type": "display_data"
    },
    {
     "data": {
      "image/png": "[encoded data removed]",
      "text/plain": [
       "<Figure size 640x480 with 1 Axes>"
      ]
     },
     "metadata": {},
     "output_type": "display_data"
    },
    {
     "data": {
      "image/png": "[encoded data removed]",
      "text/plain": [
       "<Figure size 640x480 with 1 Axes>"
      ]
     },
     "metadata": {},
     "output_type": "display_data"
    }
   ],
   "source": [
    "for i in range(0,len(Histogram)):\n",
    "\n",
    "    ax = plt.subplot(111)\n",
    "    ax.hist(Histogram[i], bins=26, color='grey', edgecolor='black')\n",
    "    plt.ylabel('Frequency', fontname='Times New Roman', size=14)\n",
    "    plt.title(f'{Histogram_text[i]}', fontname='Times New Roman', size=14)\n",
    "    plt.xlim(-1,)\n",
    "    plt.ylim(0,6)\n",
    "    ax.xaxis.set_major_locator(MaxNLocator(integer=True))\n",
    "    ax.yaxis.set_major_locator(MaxNLocator(integer=True))\n",
    "\n",
    "    for label in ax.get_yticklabels():\n",
    "        label.set_fontproperties(font_props)\n",
    "    \n",
    "    for label in ax.get_xticklabels():\n",
    "        label.set_fontproperties(font_props)\n",
    "\n",
    "    ax.spines[['right', 'top']].set_visible(False)\n",
    "    plt.show()\n"
   ]
  }
 ],
 "metadata": {
  "kernelspec": {
   "display_name": "base",
   "language": "python",
   "name": "python3"
  },
  "language_info": {
   "codemirror_mode": {
    "name": "ipython",
    "version": 3
   },
   "file_extension": ".py",
   "mimetype": "text/x-python",
   "name": "python",
   "nbconvert_exporter": "python",
   "pygments_lexer": "ipython3",
   "version": "3.11.7"
  }
 },
 "nbformat": 4,
 "nbformat_minor": 2
}
